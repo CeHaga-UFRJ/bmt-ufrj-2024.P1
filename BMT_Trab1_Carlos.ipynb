{
  "nbformat": 4,
  "nbformat_minor": 0,
  "metadata": {
    "colab": {
      "provenance": [],
      "authorship_tag": "ABX9TyPyBOkkm9MUnufinl82cQne",
      "include_colab_link": true
    },
    "kernelspec": {
      "name": "python3",
      "display_name": "Python 3"
    },
    "language_info": {
      "name": "python"
    }
  },
  "cells": [
    {
      "cell_type": "markdown",
      "metadata": {
        "id": "view-in-github",
        "colab_type": "text"
      },
      "source": [
        "<a href=\"https://colab.research.google.com/github/CeHaga-UFRJ/bmt-ufrj-2024.P1/blob/main/BMT_Trab1_Carlos.ipynb\" target=\"_parent\"><img src=\"https://colab.research.google.com/assets/colab-badge.svg\" alt=\"Open In Colab\"/></a>"
      ]
    },
    {
      "cell_type": "code",
      "execution_count": 10,
      "metadata": {
        "colab": {
          "base_uri": "https://localhost:8080/"
        },
        "cellView": "code",
        "id": "oCwFUQ8-T5Vp",
        "outputId": "ba5130ec-5769-401d-d507-fe0e3d6c3f67"
      },
      "outputs": [
        {
          "output_type": "stream",
          "name": "stderr",
          "text": [
            "[nltk_data] Downloading package punkt to /root/nltk_data...\n",
            "[nltk_data]   Package punkt is already up-to-date!\n"
          ]
        },
        {
          "output_type": "execute_result",
          "data": {
            "text/plain": [
              "True"
            ]
          },
          "metadata": {},
          "execution_count": 10
        }
      ],
      "source": [
        "import nltk\n",
        "from nltk.tokenize import word_tokenize\n",
        "from lxml import etree\n",
        "\n",
        "nltk.download(\"punkt\")"
      ]
    },
    {
      "cell_type": "code",
      "source": [
        "!git clone https://github.com/CeHaga-UFRJ/bmt-ufrj-2024.P1.git repo\n",
        "!mv repo/data data\n",
        "!mv repo/config config"
      ],
      "metadata": {
        "colab": {
          "base_uri": "https://localhost:8080/"
        },
        "id": "7809hp2Nsf1v",
        "outputId": "473a5758-50e7-46fa-a976-83a0196988d7"
      },
      "execution_count": 12,
      "outputs": [
        {
          "output_type": "stream",
          "name": "stdout",
          "text": [
            "fatal: destination path 'repo' already exists and is not an empty directory.\n"
          ]
        }
      ]
    },
    {
      "cell_type": "code",
      "source": [
        "class Indexer:\n",
        "  def __init__(self, cfg_file):\n",
        "    self.inverted_list = {}\n",
        "    self.xml_root = []\n",
        "    self.output_file = \"\"\n",
        "    self._read_cfg(cfg_file)\n",
        "\n",
        "    # for i in range(len(base)):\n",
        "    #   tokens = word_tokenize(base[i].lower())\n",
        "    #   for token in tokens:\n",
        "    #     docs = self.inverted_list.get(token, [])\n",
        "    #     docs.append(i+1)\n",
        "    #     self.inverted_list[token] = docs\n",
        "\n",
        "  def _read_cfg(self, cfg_file):\n",
        "    with open(cfg_file, 'r') as config:\n",
        "      for line in config:\n",
        "        command, file_name = line.replace(\"\\n\",\"\").split(\"=\")\n",
        "        if(command == 'LEIA'):\n",
        "          root = self._get_xml_root(file_name)\n",
        "          self.xml_root.append(root)\n",
        "        elif(command == 'ESCREVA'):\n",
        "          self.output_file = file_name\n",
        "\n",
        "  def __str__(self):\n",
        "    keys = [i for i in self.inverted_list.keys()]\n",
        "    keys.sort()\n",
        "\n",
        "    index_text = \"\"\n",
        "    for key in keys:\n",
        "      index_text += key + \" => \" + str(self.inverted_list[key]) + \"\\n\"\n",
        "\n",
        "    return index_text\n",
        "\n",
        "  def _get_xml_root(self, file_name):\n",
        "    tree = etree.parse(file_name)\n",
        "    return tree.getroot()\n",
        "\n",
        "  def _get_abstract_from_record(self, record):\n",
        "    abstract_element = record.find('ABSTRACT')\n",
        "    if abstract_element is not None:\n",
        "      return abstract_element.text.strip()\n",
        "\n",
        "    abstract_element = record.find('EXTRACT')\n",
        "    if abstract_element is not None:\n",
        "      return abstract_element.text.strip()\n",
        "\n",
        "    return None"
      ],
      "metadata": {
        "id": "DaVvjS6WWvC9"
      },
      "execution_count": 35,
      "outputs": []
    },
    {
      "cell_type": "code",
      "source": [
        "Indexer('config/gli.cfg')"
      ],
      "metadata": {
        "colab": {
          "base_uri": "https://localhost:8080/"
        },
        "id": "Vcj5ZV1MWOfQ",
        "outputId": "83edbd94-021c-47c0-8e9a-28d9b49dc884"
      },
      "execution_count": 36,
      "outputs": [
        {
          "output_type": "execute_result",
          "data": {
            "text/plain": [
              "<__main__.Indexer at 0x7e1fb15f3520>"
            ]
          },
          "metadata": {},
          "execution_count": 36
        }
      ]
    },
    {
      "cell_type": "code",
      "source": [],
      "metadata": {
        "id": "Zlhty_PJsRkg"
      },
      "execution_count": null,
      "outputs": []
    }
  ]
}