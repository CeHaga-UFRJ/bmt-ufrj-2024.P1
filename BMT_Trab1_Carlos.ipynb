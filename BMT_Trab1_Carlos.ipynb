{
  "nbformat": 4,
  "nbformat_minor": 0,
  "metadata": {
    "colab": {
      "provenance": [],
      "authorship_tag": "ABX9TyOHJabT0fVJ19FwWRq/7P4V",
      "include_colab_link": true
    },
    "kernelspec": {
      "name": "python3",
      "display_name": "Python 3"
    },
    "language_info": {
      "name": "python"
    }
  },
  "cells": [
    {
      "cell_type": "markdown",
      "metadata": {
        "id": "view-in-github",
        "colab_type": "text"
      },
      "source": [
        "<a href=\"https://colab.research.google.com/github/CeHaga-UFRJ/bmt-ufrj-2024.P1/blob/main/BMT_Trab1_Carlos.ipynb\" target=\"_parent\"><img src=\"https://colab.research.google.com/assets/colab-badge.svg\" alt=\"Open In Colab\"/></a>"
      ]
    },
    {
      "cell_type": "code",
      "execution_count": 11,
      "metadata": {
        "colab": {
          "base_uri": "https://localhost:8080/"
        },
        "id": "oCwFUQ8-T5Vp",
        "outputId": "ebb9c497-36c7-4b70-ea05-b4e1ba07086f"
      },
      "outputs": [
        {
          "output_type": "stream",
          "name": "stderr",
          "text": [
            "[nltk_data] Downloading package punkt to /root/nltk_data...\n",
            "[nltk_data]   Package punkt is already up-to-date!\n"
          ]
        },
        {
          "output_type": "execute_result",
          "data": {
            "text/plain": [
              "True"
            ]
          },
          "metadata": {},
          "execution_count": 11
        }
      ],
      "source": [
        "import nltk\n",
        "from nltk.tokenize import word_tokenize\n",
        "\n",
        "nltk.download(\"punkt\")"
      ]
    },
    {
      "cell_type": "code",
      "source": [
        "class Indexador:\n",
        "  def __init__(self, base):\n",
        "    self.lista_invertida = {}\n",
        "\n",
        "    for i in range(len(base)):\n",
        "      tokens = word_tokenize(base[i].lower())\n",
        "      for token in tokens:\n",
        "        docs = self.lista_invertida.get(token, set())\n",
        "        docs.add(i+1)\n",
        "        self.lista_invertida[token] = docs\n",
        "\n",
        "  def __str__(self):\n",
        "    chaves = [i for i in self.lista_invertida.keys()]\n",
        "    chaves.sort()\n",
        "\n",
        "    texto_imprimir = \"\"\n",
        "    for chave in chaves:\n",
        "      texto_imprimir += chave + \" => \" + str(self.lista_invertida[chave]) + \"\\n\"\n",
        "\n",
        "    return texto_imprimir"
      ],
      "metadata": {
        "id": "DaVvjS6WWvC9"
      },
      "execution_count": 15,
      "outputs": []
    },
    {
      "cell_type": "code",
      "source": [
        "base = [\n",
        "    \"teste 1\",\n",
        "    \"esse é um TESTE 1\",\n",
        "    \"Esse é o teste 2\"\n",
        "]\n",
        "\n",
        "indexador = Indexador(base)\n",
        "print(indexador)"
      ],
      "metadata": {
        "colab": {
          "base_uri": "https://localhost:8080/"
        },
        "id": "Of_XMB5vT9W6",
        "outputId": "31dd8b05-25d4-4956-9d14-0b1f6153323b"
      },
      "execution_count": 16,
      "outputs": [
        {
          "output_type": "stream",
          "name": "stdout",
          "text": [
            "1 => {1, 2}\n",
            "2 => {3}\n",
            "esse => {2, 3}\n",
            "o => {3}\n",
            "teste => {1, 2, 3}\n",
            "um => {2}\n",
            "é => {2, 3}\n",
            "\n"
          ]
        }
      ]
    },
    {
      "cell_type": "code",
      "source": [],
      "metadata": {
        "id": "E3w9r3t7VMyU"
      },
      "execution_count": null,
      "outputs": []
    }
  ]
}