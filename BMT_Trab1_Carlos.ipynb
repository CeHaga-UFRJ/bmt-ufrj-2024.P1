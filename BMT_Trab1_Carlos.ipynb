{
  "nbformat": 4,
  "nbformat_minor": 0,
  "metadata": {
    "colab": {
      "provenance": [],
      "authorship_tag": "ABX9TyMSyIvUSkz4jWCn0DFgeOTK",
      "include_colab_link": true
    },
    "kernelspec": {
      "name": "python3",
      "display_name": "Python 3"
    },
    "language_info": {
      "name": "python"
    }
  },
  "cells": [
    {
      "cell_type": "markdown",
      "metadata": {
        "id": "view-in-github",
        "colab_type": "text"
      },
      "source": [
        "<a href=\"https://colab.research.google.com/github/CeHaga-UFRJ/bmt-ufrj-2024.P1/blob/main/BMT_Trab1_Carlos.ipynb\" target=\"_parent\"><img src=\"https://colab.research.google.com/assets/colab-badge.svg\" alt=\"Open In Colab\"/></a>"
      ]
    },
    {
      "cell_type": "code",
      "execution_count": 1,
      "metadata": {
        "colab": {
          "base_uri": "https://localhost:8080/"
        },
        "id": "oCwFUQ8-T5Vp",
        "outputId": "be4b353b-095f-4cff-b3ad-e1ce9f373d84"
      },
      "outputs": [
        {
          "output_type": "stream",
          "name": "stderr",
          "text": [
            "[nltk_data] Downloading package punkt to /root/nltk_data...\n",
            "[nltk_data]   Unzipping tokenizers/punkt.zip.\n"
          ]
        },
        {
          "output_type": "execute_result",
          "data": {
            "text/plain": [
              "True"
            ]
          },
          "metadata": {},
          "execution_count": 1
        }
      ],
      "source": [
        "import nltk\n",
        "from nltk.tokenize import word_tokenize\n",
        "\n",
        "nltk.download(\"punkt\")"
      ]
    },
    {
      "cell_type": "code",
      "source": [
        "class Indexer:\n",
        "  def __init__(self, cfg_file):\n",
        "    self.inverted_list = {}\n",
        "\n",
        "    with open(cfg_file, 'r') as config:\n",
        "      for line in config:\n",
        "        command, file_name = line.split(\"=\")\n",
        "        print(command)\n",
        "        print(file_name)\n",
        "        print()\n",
        "\n",
        "    # for i in range(len(base)):\n",
        "    #   tokens = word_tokenize(base[i].lower())\n",
        "    #   for token in tokens:\n",
        "    #     docs = self.inverted_list.get(token, [])\n",
        "    #     docs.append(i+1)\n",
        "    #     self.inverted_list[token] = docs\n",
        "\n",
        "  def __str__(self):\n",
        "    keys = [i for i in self.inverted_list.keys()]\n",
        "    keys.sort()\n",
        "\n",
        "    texto_imprimir = \"\"\n",
        "    for key in keys:\n",
        "      texto_imprimir += key + \" => \" + str(self.inverted_list[key]) + \"\\n\"\n",
        "\n",
        "    return texto_imprimir"
      ],
      "metadata": {
        "id": "DaVvjS6WWvC9"
      },
      "execution_count": 6,
      "outputs": []
    },
    {
      "cell_type": "code",
      "source": [
        "Indexer('gli.cfg')"
      ],
      "metadata": {
        "colab": {
          "base_uri": "https://localhost:8080/"
        },
        "id": "Vcj5ZV1MWOfQ",
        "outputId": "7fad80a1-b449-4bd1-9eb6-3d9afaf09c39"
      },
      "execution_count": 8,
      "outputs": [
        {
          "output_type": "stream",
          "name": "stdout",
          "text": [
            "LEIA\n",
            "data/cf74.xml\n",
            "\n",
            "\n",
            "LEIA\n",
            "data/cf75.xml\n",
            "\n",
            "\n",
            "LEIA\n",
            "data/cf76.xml\n",
            "\n",
            "\n",
            "LEIA\n",
            "data/cf77.xml\n",
            "\n",
            "\n",
            "LEIA\n",
            "data/cf78.xml\n",
            "\n",
            "\n",
            "LEIA\n",
            "data/cf79.xml\n",
            "\n",
            "\n",
            "ESCREVA\n",
            "teste\n",
            "\n"
          ]
        },
        {
          "output_type": "execute_result",
          "data": {
            "text/plain": [
              "<__main__.Indexer at 0x7fb8454c6ef0>"
            ]
          },
          "metadata": {},
          "execution_count": 8
        }
      ]
    }
  ]
}